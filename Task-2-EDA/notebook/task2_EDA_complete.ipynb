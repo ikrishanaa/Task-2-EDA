{
 "cells": [
  {
   "cell_type": "markdown",
   "id": "e89533d0",
   "metadata": {},
   "source": [
    "# Task 2 – Exploratory Data Analysis (EDA)\n",
    "\n",
    "This notebook performs EDA on the Titanic dataset to identify patterns, trends, and anomalies using statistics and visualizations."
   ]
  },
  {
   "cell_type": "code",
   "execution_count": null,
   "id": "01bf0ad6",
   "metadata": {},
   "outputs": [],
   "source": [
    "import pandas as pd\n",
    "import numpy as np\n",
    "import seaborn as sns\n",
    "import matplotlib.pyplot as plt\n",
    "import plotly.express as px\n",
    "%matplotlib inline\n"
   ]
  },
  {
   "cell_type": "markdown",
   "id": "2dd9322f",
   "metadata": {},
   "source": [
    "## Step 1: Load the Dataset"
   ]
  },
  {
   "cell_type": "code",
   "execution_count": null,
   "id": "0b1cd911",
   "metadata": {},
   "outputs": [],
   "source": [
    "# Load the dataset\n",
    "df = pd.read_csv('../dataset/titanic.csv')  # Update path as needed\n",
    "df.head()\n"
   ]
  },
  {
   "cell_type": "markdown",
   "id": "88d6c758",
   "metadata": {},
   "source": [
    "## Step 4: Visualize Distributions (Histograms)"
   ]
  },
  {
   "cell_type": "code",
   "execution_count": null,
   "id": "d86dc62d",
   "metadata": {},
   "outputs": [],
   "source": [
    "# Histograms for numerical columns\n",
    "df.hist(bins=20, figsize=(15, 10), color='skyblue', edgecolor='black')\n",
    "plt.suptitle(\"Histograms of Numerical Features\")\n",
    "plt.show()\n"
   ]
  },
  {
   "cell_type": "markdown",
   "id": "0877636d",
   "metadata": {},
   "source": [
    "## Step 5: Boxplots for Outlier Detection"
   ]
  },
  {
   "cell_type": "code",
   "execution_count": null,
   "id": "30450146",
   "metadata": {},
   "outputs": [],
   "source": [
    "# Boxplots for numeric features\n",
    "plt.figure(figsize=(12,6))\n",
    "sns.boxplot(data=df[['Age', 'Fare']])\n",
    "plt.title(\"Boxplots of Age and Fare\")\n",
    "plt.show()\n"
   ]
  },
  {
   "cell_type": "markdown",
   "id": "5e003b6a",
   "metadata": {},
   "source": [
    "## Step 6: Correlation Matrix"
   ]
  },
  {
   "cell_type": "code",
   "execution_count": null,
   "id": "0e146d62",
   "metadata": {},
   "outputs": [],
   "source": [
    "# Correlation heatmap\n",
    "plt.figure(figsize=(10, 6))\n",
    "sns.heatmap(df.corr(numeric_only=True), annot=True, cmap='coolwarm')\n",
    "plt.title(\"Correlation Matrix\")\n",
    "plt.show()\n"
   ]
  },
  {
   "cell_type": "markdown",
   "id": "934292b6",
   "metadata": {},
   "source": [
    "## Step 7: Pairplot for Feature Relationships"
   ]
  },
  {
   "cell_type": "code",
   "execution_count": null,
   "id": "11ef6489",
   "metadata": {},
   "outputs": [],
   "source": [
    "# Pairplot of selected features\n",
    "sns.pairplot(df[['Age', 'Fare', 'Survived', 'Pclass']], hue='Survived')\n",
    "plt.show()\n"
   ]
  },
  {
   "cell_type": "markdown",
   "id": "ee01a731",
   "metadata": {},
   "source": [
    "## 📌 Inferences\n",
    "\n",
    "- Use the visuals above to draw conclusions.\n",
    "- Look for skewness, outliers, and correlations.\n",
    "- EDA helps decide which features are most informative."
   ]
  }
 ],
 "metadata": {},
 "nbformat": 4,
 "nbformat_minor": 5
}