{
 "cells": [
  {
   "cell_type": "code",
   "execution_count": 19,
   "id": "219f3c2e",
   "metadata": {},
   "outputs": [],
   "source": [
    "import nbformat as nbf\n",
    "from nbformat.v4 import new_markdown_cell, new_code_cell, new_notebook\n",
    "from pathlib import Path\n"
   ]
  },
  {
   "cell_type": "code",
   "execution_count": 20,
   "id": "446be953",
   "metadata": {},
   "outputs": [],
   "source": [
    "notebook_cells = []\n",
    "\n",
    "# Title and Introduction\n",
    "notebook_cells.append(new_markdown_cell(\"# Task 2 – Exploratory Data Analysis (EDA)\\n\\nThis notebook performs EDA on the Titanic dataset to identify patterns, trends, and anomalies using statistics and visualizations.\"))\n",
    "\n",
    "# Import Libraries\n",
    "code_imports = \"\"\"\\\n",
    "import pandas as pd\n",
    "import numpy as np\n",
    "import seaborn as sns\n",
    "import matplotlib.pyplot as plt\n",
    "import plotly.express as px\n",
    "%matplotlib inline\n",
    "\"\"\"\n",
    "notebook_cells.append(new_code_cell(code_imports))\n"
   ]
  },
  {
   "cell_type": "code",
   "execution_count": 21,
   "id": "61a287d0",
   "metadata": {},
   "outputs": [],
   "source": [
    "# Load Dataset\n",
    "notebook_cells.append(new_markdown_cell(\"## Step 1: Load the Dataset\"))\n",
    "code_load_data = \"\"\"\\\n",
    "# Load the dataset\n",
    "df = pd.read_csv('../dataset/titanic.csv')  # Update path as needed\n",
    "df.head()\n",
    "\"\"\"\n",
    "notebook_cells.append(new_code_cell(code_load_data))"
   ]
  },
  {
   "cell_type": "code",
   "execution_count": 22,
   "id": "dc491ef1",
   "metadata": {},
   "outputs": [],
   "source": [
    "# Histograms\n",
    "notebook_cells.append(new_markdown_cell(\"## Step 4: Visualize Distributions (Histograms)\"))\n",
    "code_histograms = \"\"\"\\\n",
    "# Histograms for numerical columns\n",
    "df.hist(bins=20, figsize=(15, 10), color='skyblue', edgecolor='black')\n",
    "plt.suptitle(\"Histograms of Numerical Features\")\n",
    "plt.show()\n",
    "\"\"\"\n",
    "notebook_cells.append(new_code_cell(code_histograms))"
   ]
  },
  {
   "cell_type": "code",
   "execution_count": 23,
   "id": "297b0acc",
   "metadata": {},
   "outputs": [],
   "source": [
    "# Boxplots\n",
    "notebook_cells.append(new_markdown_cell(\"## Step 5: Boxplots for Outlier Detection\"))\n",
    "code_boxplots = \"\"\"\\\n",
    "# Boxplots for numeric features\n",
    "plt.figure(figsize=(12,6))\n",
    "sns.boxplot(data=df[['Age', 'Fare']])\n",
    "plt.title(\"Boxplots of Age and Fare\")\n",
    "plt.show()\n",
    "\"\"\"\n",
    "notebook_cells.append(new_code_cell(code_boxplots))"
   ]
  },
  {
   "cell_type": "code",
   "execution_count": 24,
   "id": "05cca650",
   "metadata": {},
   "outputs": [],
   "source": [
    "# Correlation matrix\n",
    "notebook_cells.append(new_markdown_cell(\"## Step 6: Correlation Matrix\"))\n",
    "code_corr = \"\"\"\\\n",
    "# Correlation heatmap\n",
    "plt.figure(figsize=(10, 6))\n",
    "sns.heatmap(df.corr(numeric_only=True), annot=True, cmap='coolwarm')\n",
    "plt.title(\"Correlation Matrix\")\n",
    "plt.show()\n",
    "\"\"\"\n",
    "notebook_cells.append(new_code_cell(code_corr))"
   ]
  },
  {
   "cell_type": "code",
   "execution_count": 25,
   "id": "04d1fbc0",
   "metadata": {},
   "outputs": [],
   "source": [
    "# Pairplot\n",
    "notebook_cells.append(new_markdown_cell(\"## Step 7: Pairplot for Feature Relationships\"))\n",
    "code_pairplot = \"\"\"\\\n",
    "# Pairplot of selected features\n",
    "sns.pairplot(df[['Age', 'Fare', 'Survived', 'Pclass']], hue='Survived')\n",
    "plt.show()\n",
    "\"\"\"\n",
    "notebook_cells.append(new_code_cell(code_pairplot))"
   ]
  },
  {
   "cell_type": "code",
   "execution_count": 26,
   "id": "9405971a",
   "metadata": {},
   "outputs": [
    {
     "data": {
      "text/plain": [
       "'task2_EDA_complete.ipynb'"
      ]
     },
     "execution_count": 26,
     "metadata": {},
     "output_type": "execute_result"
    }
   ],
   "source": [
    "# Inference\n",
    "notebook_cells.append(new_markdown_cell(\"## 📌 Inferences\\n\\n- Use the visuals above to draw conclusions.\\n- Look for skewness, outliers, and correlations.\\n- EDA helps decide which features are most informative.\"))\n",
    "\n",
    "# Create and save the notebook\n",
    "notebook = new_notebook(cells=notebook_cells)\n",
    "output_path = Path(\"task2_EDA_complete.ipynb\")\n",
    "with open(output_path, \"w\", encoding=\"utf-8\") as f:\n",
    "    f.write(nbf.writes(notebook))\n",
    "\n",
    "output_path.name"
   ]
  }
 ],
 "metadata": {
  "kernelspec": {
   "display_name": "Python 3",
   "language": "python",
   "name": "python3"
  },
  "language_info": {
   "codemirror_mode": {
    "name": "ipython",
    "version": 3
   },
   "file_extension": ".py",
   "mimetype": "text/x-python",
   "name": "python",
   "nbconvert_exporter": "python",
   "pygments_lexer": "ipython3",
   "version": "3.12.9"
  }
 },
 "nbformat": 4,
 "nbformat_minor": 5
}
